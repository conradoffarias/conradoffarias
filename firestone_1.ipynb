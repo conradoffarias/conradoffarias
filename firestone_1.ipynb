{
  "nbformat": 4,
  "nbformat_minor": 0,
  "metadata": {
    "colab": {
      "name": "firestone_1.ipynb",
      "provenance": [],
      "authorship_tag": "ABX9TyMOaCK38R4JE0w+ILL4U94w",
      "include_colab_link": true
    },
    "kernelspec": {
      "name": "python3",
      "display_name": "Python 3"
    },
    "language_info": {
      "name": "python"
    }
  },
  "cells": [
    {
      "cell_type": "markdown",
      "metadata": {
        "id": "view-in-github",
        "colab_type": "text"
      },
      "source": [
        "<a href=\"https://colab.research.google.com/github/conradoffarias/conradoffarias/blob/main/firestone_1.ipynb\" target=\"_parent\"><img src=\"https://colab.research.google.com/assets/colab-badge.svg\" alt=\"Open In Colab\"/></a>"
      ]
    },
    {
      "cell_type": "code",
      "metadata": {
        "colab": {
          "base_uri": "https://localhost:8080/"
        },
        "id": "pBdIdWBlQix3",
        "outputId": "977d7736-9d67-4d22-be11-d03b99d80e35"
      },
      "source": [
        "import firebase_admin\n",
        "from firebase_admin import credentials\n",
        "from firebase_admin import firestore\n",
        "\n",
        "cred = credentials.Certificate(\"serviceAccountKey.json\")\n",
        "firebase_admin.initialize_app(cred)\n",
        "\n",
        "db = firestore.client()\n",
        "\n",
        "db.collection('persons').add({'name': 'Conrado', 'age': 28})"
      ],
      "execution_count": 1,
      "outputs": [
        {
          "output_type": "execute_result",
          "data": {
            "text/plain": [
              "(seconds: 1637276123\n",
              " nanos: 74817000,\n",
              " <google.cloud.firestore_v1.document.DocumentReference at 0x7fc24fc476d0>)"
            ]
          },
          "metadata": {},
          "execution_count": 1
        }
      ]
    }
  ]
}